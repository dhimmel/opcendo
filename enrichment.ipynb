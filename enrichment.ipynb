{
 "cells": [
  {
   "cell_type": "markdown",
   "metadata": {},
   "source": [
    "# OPC/Endothelial Enrichment Analyis from RNA-Seq"
   ]
  },
  {
   "cell_type": "code",
   "execution_count": 1,
   "metadata": {
    "collapsed": true
   },
   "outputs": [],
   "source": [
    "import urllib\n",
    "import os\n",
    "\n",
    "import pandas\n",
    "import numpy\n",
    "\n",
    "%matplotlib inline"
   ]
  },
  {
   "cell_type": "markdown",
   "metadata": {},
   "source": [
    "## Download data"
   ]
  },
  {
   "cell_type": "code",
   "execution_count": 2,
   "metadata": {
    "collapsed": false
   },
   "outputs": [],
   "source": [
    "url_to_path = {\n",
    "    # Brain RNA-Seq\n",
    "    'http://web.stanford.edu/group/barres_lab/barreslab_rnaseq.xlsx':\n",
    "        os.path.join('download', 'barreslab_rnaseq.xlsx'),\n",
    "}\n",
    "\n",
    "for url, path in url_to_path.items():\n",
    "    if not os.path.exists(path):\n",
    "        urllib.request.urlretrieve(url, path)"
   ]
  },
  {
   "cell_type": "markdown",
   "metadata": {},
   "source": [
    "## Read GO annotations"
   ]
  },
  {
   "cell_type": "code",
   "execution_count": 3,
   "metadata": {
    "collapsed": false
   },
   "outputs": [
    {
     "data": {
      "text/html": [
       "<div>\n",
       "<table border=\"1\" class=\"dataframe\">\n",
       "  <thead>\n",
       "    <tr style=\"text-align: right;\">\n",
       "      <th></th>\n",
       "      <th>go_id</th>\n",
       "      <th>go_name</th>\n",
       "      <th>go_domain</th>\n",
       "      <th>tax_id</th>\n",
       "      <th>annotation_type</th>\n",
       "      <th>size</th>\n",
       "      <th>gene_ids</th>\n",
       "      <th>gene_symbols</th>\n",
       "    </tr>\n",
       "  </thead>\n",
       "  <tbody>\n",
       "    <tr>\n",
       "      <th>0</th>\n",
       "      <td>GO:0000002</td>\n",
       "      <td>mitochondrial genome maintenance</td>\n",
       "      <td>biological_process</td>\n",
       "      <td>10090</td>\n",
       "      <td>inferred</td>\n",
       "      <td>26</td>\n",
       "      <td>11545|16882|17258|17527|18975|19819|22059|2379...</td>\n",
       "      <td>Parp1|Lig3|Mef2a|Mpv17|Polg|Rnaseh1|Trp53|Akt3...</td>\n",
       "    </tr>\n",
       "    <tr>\n",
       "      <th>1</th>\n",
       "      <td>GO:0000003</td>\n",
       "      <td>reproduction</td>\n",
       "      <td>biological_process</td>\n",
       "      <td>10090</td>\n",
       "      <td>inferred</td>\n",
       "      <td>1182</td>\n",
       "      <td>11287|11421|11430|11434|11441|11477|11480|1148...</td>\n",
       "      <td>Pzp|Ace|Acox1|Acr|Chrna7|Acvr1|Acvr2a|Ada|Adam...</td>\n",
       "    </tr>\n",
       "  </tbody>\n",
       "</table>\n",
       "</div>"
      ],
      "text/plain": [
       "        go_id                           go_name           go_domain  tax_id  \\\n",
       "0  GO:0000002  mitochondrial genome maintenance  biological_process   10090   \n",
       "1  GO:0000003                      reproduction  biological_process   10090   \n",
       "\n",
       "  annotation_type  size                                           gene_ids  \\\n",
       "0        inferred    26  11545|16882|17258|17527|18975|19819|22059|2379...   \n",
       "1        inferred  1182  11287|11421|11430|11434|11441|11477|11480|1148...   \n",
       "\n",
       "                                        gene_symbols  \n",
       "0  Parp1|Lig3|Mef2a|Mpv17|Polg|Rnaseh1|Trp53|Akt3...  \n",
       "1  Pzp|Ace|Acox1|Acr|Chrna7|Acvr1|Acvr2a|Ada|Adam...  "
      ]
     },
     "execution_count": 3,
     "metadata": {},
     "output_type": "execute_result"
    }
   ],
   "source": [
    "url = 'https://github.com/dhimmel/gene-ontology/raw/87bab297f55db283e65a7a984607316b409415ae/annotations/taxid_10090/GO_annotations-10090-inferred-allev.tsv'\n",
    "go_df = pandas.read_table(url)\n",
    "go_df.head(2)"
   ]
  },
  {
   "cell_type": "markdown",
   "metadata": {},
   "source": [
    "## Process expression"
   ]
  },
  {
   "cell_type": "code",
   "execution_count": 4,
   "metadata": {
    "collapsed": false
   },
   "outputs": [],
   "source": [
    "path = os.path.join('download', 'barreslab_rnaseq.xlsx')\n",
    "fpkm_df = pandas.read_excel(path, sheetname='Raw Data')"
   ]
  },
  {
   "cell_type": "code",
   "execution_count": 5,
   "metadata": {
    "collapsed": false
   },
   "outputs": [
    {
     "data": {
      "text/html": [
       "<div>\n",
       "<table border=\"1\" class=\"dataframe\">\n",
       "  <thead>\n",
       "    <tr style=\"text-align: right;\">\n",
       "      <th></th>\n",
       "      <th>Gene symbol</th>\n",
       "      <th>Description</th>\n",
       "      <th>Astrocytes</th>\n",
       "      <th>Neuron</th>\n",
       "      <th>Oligodendrocyte Precursor Cell</th>\n",
       "      <th>Newly Formed Oligodendrocyte</th>\n",
       "      <th>Myelinating Oligodendrocytes</th>\n",
       "      <th>Microglia</th>\n",
       "      <th>Endothelial Cells</th>\n",
       "    </tr>\n",
       "  </thead>\n",
       "  <tbody>\n",
       "    <tr>\n",
       "      <th>0</th>\n",
       "      <td>0610005C13Rik</td>\n",
       "      <td>NaN</td>\n",
       "      <td>0.150958</td>\n",
       "      <td>0.100000</td>\n",
       "      <td>0.100000</td>\n",
       "      <td>0.100000</td>\n",
       "      <td>0.100000</td>\n",
       "      <td>0.100000</td>\n",
       "      <td>0.100000</td>\n",
       "    </tr>\n",
       "    <tr>\n",
       "      <th>1</th>\n",
       "      <td>0610007C21Rik</td>\n",
       "      <td>NaN</td>\n",
       "      <td>44.891260</td>\n",
       "      <td>34.185493</td>\n",
       "      <td>71.221305</td>\n",
       "      <td>57.985927</td>\n",
       "      <td>54.006096</td>\n",
       "      <td>89.145033</td>\n",
       "      <td>63.561109</td>\n",
       "    </tr>\n",
       "  </tbody>\n",
       "</table>\n",
       "</div>"
      ],
      "text/plain": [
       "     Gene symbol Description  Astrocytes     Neuron  \\\n",
       "0  0610005C13Rik         NaN    0.150958   0.100000   \n",
       "1  0610007C21Rik         NaN   44.891260  34.185493   \n",
       "\n",
       "   Oligodendrocyte Precursor Cell  Newly Formed Oligodendrocyte  \\\n",
       "0                        0.100000                      0.100000   \n",
       "1                       71.221305                     57.985927   \n",
       "\n",
       "   Myelinating Oligodendrocytes  Microglia  Endothelial Cells  \n",
       "0                      0.100000   0.100000           0.100000  \n",
       "1                     54.006096  89.145033          63.561109  "
      ]
     },
     "execution_count": 5,
     "metadata": {},
     "output_type": "execute_result"
    }
   ],
   "source": [
    "fpkm_df.head(2)"
   ]
  },
  {
   "cell_type": "code",
   "execution_count": 6,
   "metadata": {
    "collapsed": false
   },
   "outputs": [
    {
     "data": {
      "text/plain": [
       "cell-cell adhesion    525\n",
       "cell surface          766\n",
       "dtype: int64"
      ]
     },
     "execution_count": 6,
     "metadata": {},
     "output_type": "execute_result"
    }
   ],
   "source": [
    "# Choose GO IDs to include\n",
    "go_ids = [\n",
    "    'GO:0098609', # cell-cell adhesion biological process\n",
    "    'GO:0009986', #cell surface cellular component\n",
    "]\n",
    "\n",
    "go_names = list()\n",
    "\n",
    "for go_id in go_ids:\n",
    "    go_genes = go_df.loc[go_df.go_id == go_id, 'gene_symbols'].iloc[0].split('|')\n",
    "    go_name = go_df.loc[go_df.go_id == go_id, 'go_name'].iloc[0]\n",
    "    go_names.append(go_name)\n",
    "    fpkm_df[go_name] = fpkm_df['Gene symbol'].isin(go_genes).astype(int)\n",
    "\n",
    "# Genes with RNA-Seq data per GO term\n",
    "fpkm_df[go_names].sum('rows')"
   ]
  },
  {
   "cell_type": "code",
   "execution_count": 7,
   "metadata": {
    "collapsed": false
   },
   "outputs": [],
   "source": [
    "# Calculate enrichments\n",
    "fpkm_df['opc_L2FC'] = numpy.log2(fpkm_df['Oligodendrocyte Precursor Cell'] / fpkm_df['Myelinating Oligodendrocytes'])\n",
    "\n",
    "non_endothelials = ['Astrocytes', 'Neuron', 'Oligodendrocyte Precursor Cell',\n",
    "                    'Newly Formed Oligodendrocyte', 'Myelinating Oligodendrocytes', 'Microglia']\n",
    "\n",
    "fpkm_df['endothelial_L2FC'] = numpy.log2(fpkm_df['Endothelial Cells'] / fpkm_df[non_endothelials].mean(axis='columns'))"
   ]
  },
  {
   "cell_type": "code",
   "execution_count": 8,
   "metadata": {
    "collapsed": false
   },
   "outputs": [
    {
     "data": {
      "image/png": "[encoded data removed]",
      "text/plain": [
       "<matplotlib.figure.Figure at 0x7effeec3d240>"
      ]
     },
     "metadata": {},
     "output_type": "display_data"
    }
   ],
   "source": [
    "fpkm_df.opc_L2FC.hist(bins=30);"
   ]
  },
  {
   "cell_type": "code",
   "execution_count": 9,
   "metadata": {
    "collapsed": false
   },
   "outputs": [
    {
     "data": {
      "image/png": "[encoded data removed]",
      "text/plain": [
       "<matplotlib.figure.Figure at 0x7effed1eb2e8>"
      ]
     },
     "metadata": {},
     "output_type": "display_data"
    }
   ],
   "source": [
    "fpkm_df.endothelial_L2FC.hist(bins=30);"
   ]
  },
  {
   "cell_type": "markdown",
   "metadata": {},
   "source": [
    "## Add dominant active catenin fold change"
   ]
  },
  {
   "cell_type": "code",
   "execution_count": 10,
   "metadata": {
    "collapsed": false
   },
   "outputs": [
    {
     "data": {
      "text/html": [
       "<div>\n",
       "<table border=\"1\" class=\"dataframe\">\n",
       "  <thead>\n",
       "    <tr style=\"text-align: right;\">\n",
       "      <th></th>\n",
       "      <th>Gene symbol</th>\n",
       "      <th>DA_Cat_L2FC</th>\n",
       "    </tr>\n",
       "  </thead>\n",
       "  <tbody>\n",
       "    <tr>\n",
       "      <th>347</th>\n",
       "      <td>Mog</td>\n",
       "      <td>-3.459580</td>\n",
       "    </tr>\n",
       "    <tr>\n",
       "      <th>205</th>\n",
       "      <td>Ermn</td>\n",
       "      <td>-2.988046</td>\n",
       "    </tr>\n",
       "  </tbody>\n",
       "</table>\n",
       "</div>"
      ],
      "text/plain": [
       "    Gene symbol  DA_Cat_L2FC\n",
       "347         Mog    -3.459580\n",
       "205        Ermn    -2.988046"
      ]
     },
     "execution_count": 10,
     "metadata": {},
     "output_type": "execute_result"
    }
   ],
   "source": [
    "path = os.path.join('download', 'dominant-active-catenin-DEGs.tsv')\n",
    "dac_df = pandas.read_table(path, index_col=0)\n",
    "dac_df['DA_Cat_L2FC'] = numpy.log2(dac_df['Geom mean of intensities in class 1'] / dac_df['Geom mean of intensities in class 2'])\n",
    "# Convert fold changes from probe to gene space\n",
    "dac_df = dac_df[['Symbol', 'DA_Cat_L2FC']].groupby('Symbol').mean().reset_index()\n",
    "dac_df = dac_df.rename(columns={'Symbol': 'Gene symbol'})\n",
    "dac_df = dac_df.sort_values('DA_Cat_L2FC')\n",
    "dac_df.head(2)"
   ]
  },
  {
   "cell_type": "code",
   "execution_count": 11,
   "metadata": {
    "collapsed": false
   },
   "outputs": [
    {
     "data": {
      "image/png": "[encoded data removed]",
      "text/plain": [
       "<matplotlib.figure.Figure at 0x7effed225908>"
      ]
     },
     "metadata": {},
     "output_type": "display_data"
    }
   ],
   "source": [
    "dac_df.DA_Cat_L2FC.hist(bins=30);"
   ]
  },
  {
   "cell_type": "code",
   "execution_count": 12,
   "metadata": {
    "collapsed": false
   },
   "outputs": [],
   "source": [
    "fpkm_df = fpkm_df.merge(dac_df, how='left')"
   ]
  },
  {
   "cell_type": "markdown",
   "metadata": {},
   "source": [
    "## Save dataset"
   ]
  },
  {
   "cell_type": "code",
   "execution_count": 13,
   "metadata": {
    "collapsed": false
   },
   "outputs": [],
   "source": [
    "fpkm_df = fpkm_df.sort_values('Gene symbol')\n",
    "path = os.path.join('data', 'enrichment.tsv')\n",
    "fpkm_df.to_csv(path, sep='\\t', index=False, float_format='%.5g')"
   ]
  }
 ],
 "metadata": {
  "kernelspec": {
   "display_name": "Python 3",
   "language": "python",
   "name": "python3"
  },
  "language_info": {
   "codemirror_mode": {
    "name": "ipython",
    "version": 3
   },
   "file_extension": ".py",
   "mimetype": "text/x-python",
   "name": "python",
   "nbconvert_exporter": "python",
   "pygments_lexer": "ipython3",
   "version": "3.5.1"
  }
 },
 "nbformat": 4,
 "nbformat_minor": 0
}
