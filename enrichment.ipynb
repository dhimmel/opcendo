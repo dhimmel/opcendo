{
 "cells": [
  {
   "cell_type": "markdown",
   "metadata": {},
   "source": [
    "# OPC/Endothelial Enrichment Analyis from RNA-Seq"
   ]
  },
  {
   "cell_type": "code",
   "execution_count": 1,
   "metadata": {
    "collapsed": true
   },
   "outputs": [],
   "source": [
    "import urllib\n",
    "import os\n",
    "\n",
    "import pandas\n",
    "import numpy"
   ]
  },
  {
   "cell_type": "markdown",
   "metadata": {},
   "source": [
    "## Download data"
   ]
  },
  {
   "cell_type": "code",
   "execution_count": 2,
   "metadata": {
    "collapsed": false
   },
   "outputs": [],
   "source": [
    "path = os.path.join('download', 'barreslab_rnaseq.xlsx')\n",
    "if not os.path.exists(path):\n",
    "    url = 'http://web.stanford.edu/group/barres_lab/barreslab_rnaseq.xlsx'\n",
    "    urllib.request.urlretrieve(url, path)"
   ]
  },
  {
   "cell_type": "markdown",
   "metadata": {},
   "source": [
    "## Read GO annotations"
   ]
  },
  {
   "cell_type": "code",
   "execution_count": 3,
   "metadata": {
    "collapsed": false
   },
   "outputs": [
    {
     "data": {
      "text/html": [
       "<div>\n",
       "<table border=\"1\" class=\"dataframe\">\n",
       "  <thead>\n",
       "    <tr style=\"text-align: right;\">\n",
       "      <th></th>\n",
       "      <th>go_id</th>\n",
       "      <th>go_name</th>\n",
       "      <th>go_domain</th>\n",
       "      <th>tax_id</th>\n",
       "      <th>annotation_type</th>\n",
       "      <th>size</th>\n",
       "      <th>gene_ids</th>\n",
       "      <th>gene_symbols</th>\n",
       "    </tr>\n",
       "  </thead>\n",
       "  <tbody>\n",
       "    <tr>\n",
       "      <th>0</th>\n",
       "      <td>GO:0000002</td>\n",
       "      <td>mitochondrial genome maintenance</td>\n",
       "      <td>biological_process</td>\n",
       "      <td>10090</td>\n",
       "      <td>inferred</td>\n",
       "      <td>26</td>\n",
       "      <td>11545|16882|17258|17527|18975|19819|22059|2379...</td>\n",
       "      <td>Parp1|Lig3|Mef2a|Mpv17|Polg|Rnaseh1|Trp53|Akt3...</td>\n",
       "    </tr>\n",
       "    <tr>\n",
       "      <th>1</th>\n",
       "      <td>GO:0000003</td>\n",
       "      <td>reproduction</td>\n",
       "      <td>biological_process</td>\n",
       "      <td>10090</td>\n",
       "      <td>inferred</td>\n",
       "      <td>1182</td>\n",
       "      <td>11287|11421|11430|11434|11441|11477|11480|1148...</td>\n",
       "      <td>Pzp|Ace|Acox1|Acr|Chrna7|Acvr1|Acvr2a|Ada|Adam...</td>\n",
       "    </tr>\n",
       "  </tbody>\n",
       "</table>\n",
       "</div>"
      ],
      "text/plain": [
       "        go_id                           go_name           go_domain  tax_id  \\\n",
       "0  GO:0000002  mitochondrial genome maintenance  biological_process   10090   \n",
       "1  GO:0000003                      reproduction  biological_process   10090   \n",
       "\n",
       "  annotation_type  size                                           gene_ids  \\\n",
       "0        inferred    26  11545|16882|17258|17527|18975|19819|22059|2379...   \n",
       "1        inferred  1182  11287|11421|11430|11434|11441|11477|11480|1148...   \n",
       "\n",
       "                                        gene_symbols  \n",
       "0  Parp1|Lig3|Mef2a|Mpv17|Polg|Rnaseh1|Trp53|Akt3...  \n",
       "1  Pzp|Ace|Acox1|Acr|Chrna7|Acvr1|Acvr2a|Ada|Adam...  "
      ]
     },
     "execution_count": 3,
     "metadata": {},
     "output_type": "execute_result"
    }
   ],
   "source": [
    "url = 'https://github.com/dhimmel/gene-ontology/raw/87bab297f55db283e65a7a984607316b409415ae/annotations/taxid_10090/GO_annotations-10090-inferred-allev.tsv'\n",
    "go_df = pandas.read_table(url)\n",
    "go_df.head(2)"
   ]
  },
  {
   "cell_type": "markdown",
   "metadata": {},
   "source": [
    "## Process expression"
   ]
  },
  {
   "cell_type": "code",
   "execution_count": 4,
   "metadata": {
    "collapsed": false
   },
   "outputs": [],
   "source": [
    "path = os.path.join('download', 'barreslab_rnaseq.xlsx')\n",
    "fpkm_df = pandas.read_excel(path, sheetname='Raw Data')"
   ]
  },
  {
   "cell_type": "code",
   "execution_count": 5,
   "metadata": {
    "collapsed": false
   },
   "outputs": [],
   "source": [
    "# Transform FPKM values\n",
    "for column in fpkm_df.columns[2:]:\n",
    "    fpkm_df[column] = numpy.arcsinh(fpkm_df[column])"
   ]
  },
  {
   "cell_type": "code",
   "execution_count": 6,
   "metadata": {
    "collapsed": false
   },
   "outputs": [
    {
     "data": {
      "text/html": [
       "<div>\n",
       "<table border=\"1\" class=\"dataframe\">\n",
       "  <thead>\n",
       "    <tr style=\"text-align: right;\">\n",
       "      <th></th>\n",
       "      <th>Gene symbol</th>\n",
       "      <th>Description</th>\n",
       "      <th>Astrocytes</th>\n",
       "      <th>Neuron</th>\n",
       "      <th>Oligodendrocyte Precursor Cell</th>\n",
       "      <th>Newly Formed Oligodendrocyte</th>\n",
       "      <th>Myelinating Oligodendrocytes</th>\n",
       "      <th>Microglia</th>\n",
       "      <th>Endothelial Cells</th>\n",
       "    </tr>\n",
       "  </thead>\n",
       "  <tbody>\n",
       "    <tr>\n",
       "      <th>0</th>\n",
       "      <td>0610005C13Rik</td>\n",
       "      <td>NaN</td>\n",
       "      <td>0.150390</td>\n",
       "      <td>0.099834</td>\n",
       "      <td>0.099834</td>\n",
       "      <td>0.099834</td>\n",
       "      <td>0.099834</td>\n",
       "      <td>0.099834</td>\n",
       "      <td>0.099834</td>\n",
       "    </tr>\n",
       "    <tr>\n",
       "      <th>1</th>\n",
       "      <td>0610007C21Rik</td>\n",
       "      <td>NaN</td>\n",
       "      <td>4.497514</td>\n",
       "      <td>4.225162</td>\n",
       "      <td>4.958988</td>\n",
       "      <td>4.753422</td>\n",
       "      <td>4.682330</td>\n",
       "      <td>5.183443</td>\n",
       "      <td>4.845211</td>\n",
       "    </tr>\n",
       "  </tbody>\n",
       "</table>\n",
       "</div>"
      ],
      "text/plain": [
       "     Gene symbol Description  Astrocytes    Neuron  \\\n",
       "0  0610005C13Rik         NaN    0.150390  0.099834   \n",
       "1  0610007C21Rik         NaN    4.497514  4.225162   \n",
       "\n",
       "   Oligodendrocyte Precursor Cell  Newly Formed Oligodendrocyte  \\\n",
       "0                        0.099834                      0.099834   \n",
       "1                        4.958988                      4.753422   \n",
       "\n",
       "   Myelinating Oligodendrocytes  Microglia  Endothelial Cells  \n",
       "0                      0.099834   0.099834           0.099834  \n",
       "1                      4.682330   5.183443           4.845211  "
      ]
     },
     "execution_count": 6,
     "metadata": {},
     "output_type": "execute_result"
    }
   ],
   "source": [
    "fpkm_df.head(2)"
   ]
  },
  {
   "cell_type": "code",
   "execution_count": 7,
   "metadata": {
    "collapsed": false
   },
   "outputs": [
    {
     "data": {
      "text/plain": [
       "cell-cell adhesion    525\n",
       "dtype: int64"
      ]
     },
     "execution_count": 7,
     "metadata": {},
     "output_type": "execute_result"
    }
   ],
   "source": [
    "# Choose GO IDs to include\n",
    "go_ids = [\n",
    "    'GO:0098609', # cell-cell adhesion biological process\n",
    "]\n",
    "\n",
    "go_names = list()\n",
    "\n",
    "for go_id in go_ids:\n",
    "    go_genes = go_df.loc[go_df.go_id == go_id, 'gene_symbols'].iloc[0].split('|')\n",
    "    go_name = go_df.loc[go_df.go_id == go_id, 'go_name'].iloc[0]\n",
    "    go_names.append(go_name)\n",
    "    fpkm_df[go_name] = fpkm_df['Gene symbol'].isin(go_genes).astype(int)\n",
    "\n",
    "fpkm_df[go_names].sum('rows')"
   ]
  },
  {
   "cell_type": "code",
   "execution_count": 8,
   "metadata": {
    "collapsed": false
   },
   "outputs": [],
   "source": [
    "# Calculate enrichments\n",
    "fpkm_df['OPC_enrichment'] = fpkm_df['Oligodendrocyte Precursor Cell'] / fpkm_df['Myelinating Oligodendrocytes']\n",
    "\n",
    "non_endothelials = ['Astrocytes', 'Neuron', 'Oligodendrocyte Precursor Cell',\n",
    "                    'Newly Formed Oligodendrocyte', 'Myelinating Oligodendrocytes', 'Microglia']\n",
    "\n",
    "fpkm_df['endothelial_enrichment'] = fpkm_df['Endothelial Cells'] / fpkm_df[non_endothelials].mean(axis='columns')"
   ]
  },
  {
   "cell_type": "code",
   "execution_count": 9,
   "metadata": {
    "collapsed": false
   },
   "outputs": [],
   "source": [
    "fpkm_df = fpkm_df.sort_values('Gene symbol')\n",
    "path = os.path.join('data', 'OPC_enrichment.tsv')\n",
    "fpkm_df.to_csv(path, sep='\\t', index=False)"
   ]
  }
 ],
 "metadata": {
  "kernelspec": {
   "display_name": "Python 3",
   "language": "python",
   "name": "python3"
  },
  "language_info": {
   "codemirror_mode": {
    "name": "ipython",
    "version": 3
   },
   "file_extension": ".py",
   "mimetype": "text/x-python",
   "name": "python",
   "nbconvert_exporter": "python",
   "pygments_lexer": "ipython3",
   "version": "3.5.1"
  }
 },
 "nbformat": 4,
 "nbformat_minor": 0
}
