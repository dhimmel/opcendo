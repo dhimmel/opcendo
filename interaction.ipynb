{
 "cells": [
  {
   "cell_type": "markdown",
   "metadata": {},
   "source": [
    "# Integrating PPI data to identify OPC-endothelial cell interactors"
   ]
  },
  {
   "cell_type": "code",
   "execution_count": 1,
   "metadata": {
    "collapsed": true
   },
   "outputs": [],
   "source": [
    "import urllib\n",
    "import os\n",
    "\n",
    "import pandas\n",
    "import numpy\n",
    "import networkx\n",
    "\n",
    "%matplotlib inline"
   ]
  },
  {
   "cell_type": "code",
   "execution_count": 2,
   "metadata": {
    "collapsed": true
   },
   "outputs": [],
   "source": [
    "url_to_path = {\n",
    "    # STRING PPI\n",
    "    'http://string.embl.de/newstring_download/protein.aliases.v10/10090.protein.aliases.v10.txt.gz':\n",
    "        os.path.join('download', 'string', '10090.protein.aliases.v10.txt.gz'),\n",
    "    'http://string.embl.de/newstring_download/protein.links.v10/10090.protein.links.v10.txt.gz':\n",
    "        os.path.join('download', 'string', '10090.protein.links.v10.txt.gz'),\n",
    "}\n",
    "\n",
    "for url, path in url_to_path.items():\n",
    "    if not os.path.exists(path):\n",
    "        urllib.request.urlretrieve(url, path)"
   ]
  },
  {
   "cell_type": "markdown",
   "metadata": {},
   "source": [
    "## Read and prepare STRING"
   ]
  },
  {
   "cell_type": "code",
   "execution_count": 3,
   "metadata": {
    "collapsed": false
   },
   "outputs": [],
   "source": [
    "path = os.path.join('download', 'string', '10090.protein.aliases.v10.txt.gz')\n",
    "alias_df = pandas.read_table(path, skiprows=1, names = ['string_protein_id', 'alias', 'source'])"
   ]
  },
  {
   "cell_type": "code",
   "execution_count": 4,
   "metadata": {
    "collapsed": false
   },
   "outputs": [],
   "source": [
    "alias_df = alias_df.query(\"source == 'BLAST_KEGG_NAME BLAST_UniProt_GN Ensembl_EntrezGene Ensembl_IKMCs_ES_cells_available Ensembl_MGI Ensembl_UniProt_GN Ensembl_WikiGene'\")\n",
    "alias_df = alias_df[['string_protein_id', 'alias']]"
   ]
  },
  {
   "cell_type": "code",
   "execution_count": 5,
   "metadata": {
    "collapsed": false
   },
   "outputs": [],
   "source": [
    "path = os.path.join('download', 'string', '10090.protein.links.v10.txt.gz')\n",
    "string_df = pandas.read_table(path, sep=' ')"
   ]
  },
  {
   "cell_type": "code",
   "execution_count": 6,
   "metadata": {
    "collapsed": false
   },
   "outputs": [
    {
     "data": {
      "text/html": [
       "<div>\n",
       "<table border=\"1\" class=\"dataframe\">\n",
       "  <thead>\n",
       "    <tr style=\"text-align: right;\">\n",
       "      <th></th>\n",
       "      <th>name_a</th>\n",
       "      <th>name_b</th>\n",
       "      <th>combined_score</th>\n",
       "    </tr>\n",
       "  </thead>\n",
       "  <tbody>\n",
       "    <tr>\n",
       "      <th>3478100</th>\n",
       "      <td>0610007P14Rik</td>\n",
       "      <td>2610028H24Rik</td>\n",
       "      <td>648</td>\n",
       "    </tr>\n",
       "    <tr>\n",
       "      <th>3849791</th>\n",
       "      <td>0610007P14Rik</td>\n",
       "      <td>Aacs</td>\n",
       "      <td>153</td>\n",
       "    </tr>\n",
       "  </tbody>\n",
       "</table>\n",
       "</div>"
      ],
      "text/plain": [
       "                name_a         name_b  combined_score\n",
       "3478100  0610007P14Rik  2610028H24Rik             648\n",
       "3849791  0610007P14Rik           Aacs             153"
      ]
     },
     "execution_count": 6,
     "metadata": {},
     "output_type": "execute_result"
    }
   ],
   "source": [
    "string_df = string_df.merge(\n",
    "    alias_df.rename(columns={'string_protein_id': 'protein1', 'alias': 'name_a'})).merge(\n",
    "    alias_df.rename(columns={'string_protein_id': 'protein2', 'alias': 'name_b'}))\n",
    "\n",
    "string_df = string_df[['name_a', 'name_b', 'combined_score']].drop_duplicates()\n",
    "string_df = string_df.sort_values(['name_a', 'name_b'])\n",
    "string_df.head(2)"
   ]
  },
  {
   "cell_type": "code",
   "execution_count": 7,
   "metadata": {
    "collapsed": false
   },
   "outputs": [
    {
     "data": {
      "image/png": "[encoded data removed]",
      "text/plain": [
       "<matplotlib.figure.Figure at 0x7fac004ba978>"
      ]
     },
     "metadata": {},
     "output_type": "display_data"
    }
   ],
   "source": [
    "string_df.combined_score.hist(bins=30);"
   ]
  },
  {
   "cell_type": "markdown",
   "metadata": {},
   "source": [
    "## Integrate expression and GO data"
   ]
  },
  {
   "cell_type": "code",
   "execution_count": 23,
   "metadata": {
    "collapsed": false
   },
   "outputs": [],
   "source": [
    "# Parameters\n",
    "fc_cutoff = 1.5\n",
    "string_score = 700\n",
    "go_names = [\n",
    "    'cell surface',\n",
    "    'cell-cell adhesion'\n",
    "]\n",
    "\n",
    "param_df = pandas.DataFrame({'parameter': ['fold_change_cutoff', 'string_score_cutoff', 'GO_terms'],\n",
    "                             'value': [fc_cutoff, string_score, go_names]})"
   ]
  },
  {
   "cell_type": "code",
   "execution_count": 24,
   "metadata": {
    "collapsed": false
   },
   "outputs": [
    {
     "data": {
      "text/html": [
       "<div>\n",
       "<table border=\"1\" class=\"dataframe\">\n",
       "  <thead>\n",
       "    <tr style=\"text-align: right;\">\n",
       "      <th></th>\n",
       "      <th>Gene symbol</th>\n",
       "      <th>Description</th>\n",
       "      <th>Astrocytes</th>\n",
       "      <th>Neuron</th>\n",
       "      <th>Oligodendrocyte Precursor Cell</th>\n",
       "      <th>Newly Formed Oligodendrocyte</th>\n",
       "      <th>Myelinating Oligodendrocytes</th>\n",
       "      <th>Microglia</th>\n",
       "      <th>Endothelial Cells</th>\n",
       "      <th>cell-cell adhesion</th>\n",
       "      <th>cell surface</th>\n",
       "      <th>opc_fold_change</th>\n",
       "      <th>endothelial_fold_change</th>\n",
       "    </tr>\n",
       "  </thead>\n",
       "  <tbody>\n",
       "    <tr>\n",
       "      <th>0</th>\n",
       "      <td>0610005C13Rik</td>\n",
       "      <td>NaN</td>\n",
       "      <td>0.15096</td>\n",
       "      <td>0.100</td>\n",
       "      <td>0.100</td>\n",
       "      <td>0.100</td>\n",
       "      <td>0.100</td>\n",
       "      <td>0.100</td>\n",
       "      <td>0.100</td>\n",
       "      <td>0</td>\n",
       "      <td>0</td>\n",
       "      <td>0.00000</td>\n",
       "      <td>-0.11760</td>\n",
       "    </tr>\n",
       "    <tr>\n",
       "      <th>1</th>\n",
       "      <td>0610007C21Rik</td>\n",
       "      <td>NaN</td>\n",
       "      <td>44.89100</td>\n",
       "      <td>34.185</td>\n",
       "      <td>71.221</td>\n",
       "      <td>57.986</td>\n",
       "      <td>54.006</td>\n",
       "      <td>89.145</td>\n",
       "      <td>63.561</td>\n",
       "      <td>0</td>\n",
       "      <td>0</td>\n",
       "      <td>0.39919</td>\n",
       "      <td>0.11792</td>\n",
       "    </tr>\n",
       "  </tbody>\n",
       "</table>\n",
       "</div>"
      ],
      "text/plain": [
       "     Gene symbol Description  Astrocytes  Neuron  \\\n",
       "0  0610005C13Rik         NaN     0.15096   0.100   \n",
       "1  0610007C21Rik         NaN    44.89100  34.185   \n",
       "\n",
       "   Oligodendrocyte Precursor Cell  Newly Formed Oligodendrocyte  \\\n",
       "0                           0.100                         0.100   \n",
       "1                          71.221                        57.986   \n",
       "\n",
       "   Myelinating Oligodendrocytes  Microglia  Endothelial Cells  \\\n",
       "0                         0.100      0.100              0.100   \n",
       "1                        54.006     89.145             63.561   \n",
       "\n",
       "   cell-cell adhesion  cell surface  opc_fold_change  endothelial_fold_change  \n",
       "0                   0             0          0.00000                 -0.11760  \n",
       "1                   0             0          0.39919                  0.11792  "
      ]
     },
     "execution_count": 24,
     "metadata": {},
     "output_type": "execute_result"
    }
   ],
   "source": [
    "fc_df = pandas.read_table('data/enrichment.tsv')\n",
    "fc_df.head(2)"
   ]
  },
  {
   "cell_type": "code",
   "execution_count": 25,
   "metadata": {
    "collapsed": false
   },
   "outputs": [
    {
     "data": {
      "text/plain": [
       "88"
      ]
     },
     "execution_count": 25,
     "metadata": {},
     "output_type": "execute_result"
    }
   ],
   "source": [
    "fc_df = fc_df.query(\"opc_fold_change >= @fc_cutoff or endothelial_fold_change >= @fc_cutoff\")\n",
    "for go_name in go_names:\n",
    "    fc_df = fc_df[fc_df[go_name] == 1]\n",
    "    \n",
    "len(fc_df)"
   ]
  },
  {
   "cell_type": "code",
   "execution_count": 26,
   "metadata": {
    "collapsed": false
   },
   "outputs": [],
   "source": [
    "fc_df = fc_df[['Gene symbol', 'opc_fold_change', 'endothelial_fold_change']]\n",
    "ixn_df = string_df.merge(\n",
    "    fc_df.rename(columns={'Gene symbol': 'name_a', 'opc_fold_change': 'opc_fc_a', 'endothelial_fold_change': 'endo_fc_a'})).merge(\n",
    "    fc_df.rename(columns={'Gene symbol': 'name_b', 'opc_fold_change': 'opc_fc_b', 'endothelial_fold_change': 'endo_fc_b'}))\n",
    "\n",
    "path = os.path.join('data', 'interactions.tsv')\n",
    "ixn_df.to_csv(path, sep='\\t', index=False)"
   ]
  },
  {
   "cell_type": "code",
   "execution_count": 27,
   "metadata": {
    "collapsed": false
   },
   "outputs": [
    {
     "data": {
      "text/html": [
       "<div>\n",
       "<table border=\"1\" class=\"dataframe\">\n",
       "  <thead>\n",
       "    <tr style=\"text-align: right;\">\n",
       "      <th></th>\n",
       "      <th>name_a</th>\n",
       "      <th>name_b</th>\n",
       "      <th>combined_score</th>\n",
       "      <th>opc_fc_a</th>\n",
       "      <th>endo_fc_a</th>\n",
       "      <th>opc_fc_b</th>\n",
       "      <th>endo_fc_b</th>\n",
       "    </tr>\n",
       "  </thead>\n",
       "  <tbody>\n",
       "    <tr>\n",
       "      <th>0</th>\n",
       "      <td>Alcam</td>\n",
       "      <td>B2m</td>\n",
       "      <td>191</td>\n",
       "      <td>5.5683</td>\n",
       "      <td>-3.5519</td>\n",
       "      <td>2.7299</td>\n",
       "      <td>1.6164</td>\n",
       "    </tr>\n",
       "    <tr>\n",
       "      <th>1</th>\n",
       "      <td>Ccr7</td>\n",
       "      <td>B2m</td>\n",
       "      <td>377</td>\n",
       "      <td>2.1161</td>\n",
       "      <td>-3.9460</td>\n",
       "      <td>2.7299</td>\n",
       "      <td>1.6164</td>\n",
       "    </tr>\n",
       "    <tr>\n",
       "      <th>2</th>\n",
       "      <td>Cd1d1</td>\n",
       "      <td>B2m</td>\n",
       "      <td>993</td>\n",
       "      <td>2.0542</td>\n",
       "      <td>1.4210</td>\n",
       "      <td>2.7299</td>\n",
       "      <td>1.6164</td>\n",
       "    </tr>\n",
       "    <tr>\n",
       "      <th>3</th>\n",
       "      <td>Cd34</td>\n",
       "      <td>B2m</td>\n",
       "      <td>216</td>\n",
       "      <td>1.6716</td>\n",
       "      <td>6.8229</td>\n",
       "      <td>2.7299</td>\n",
       "      <td>1.6164</td>\n",
       "    </tr>\n",
       "    <tr>\n",
       "      <th>4</th>\n",
       "      <td>Cd48</td>\n",
       "      <td>B2m</td>\n",
       "      <td>246</td>\n",
       "      <td>2.0185</td>\n",
       "      <td>-3.7160</td>\n",
       "      <td>2.7299</td>\n",
       "      <td>1.6164</td>\n",
       "    </tr>\n",
       "  </tbody>\n",
       "</table>\n",
       "</div>"
      ],
      "text/plain": [
       "  name_a name_b  combined_score  opc_fc_a  endo_fc_a  opc_fc_b  endo_fc_b\n",
       "0  Alcam    B2m             191    5.5683    -3.5519    2.7299     1.6164\n",
       "1   Ccr7    B2m             377    2.1161    -3.9460    2.7299     1.6164\n",
       "2  Cd1d1    B2m             993    2.0542     1.4210    2.7299     1.6164\n",
       "3   Cd34    B2m             216    1.6716     6.8229    2.7299     1.6164\n",
       "4   Cd48    B2m             246    2.0185    -3.7160    2.7299     1.6164"
      ]
     },
     "execution_count": 27,
     "metadata": {},
     "output_type": "execute_result"
    }
   ],
   "source": [
    "ixn_df.head()"
   ]
  },
  {
   "cell_type": "code",
   "execution_count": 28,
   "metadata": {
    "collapsed": false
   },
   "outputs": [
    {
     "data": {
      "text/plain": [
       "918"
      ]
     },
     "execution_count": 28,
     "metadata": {},
     "output_type": "execute_result"
    }
   ],
   "source": [
    "len(ixn_df)"
   ]
  },
  {
   "cell_type": "markdown",
   "metadata": {},
   "source": [
    "## Filter for candidate interactions"
   ]
  },
  {
   "cell_type": "code",
   "execution_count": 29,
   "metadata": {
    "collapsed": false
   },
   "outputs": [
    {
     "data": {
      "text/plain": [
       "100"
      ]
     },
     "execution_count": 29,
     "metadata": {},
     "output_type": "execute_result"
    }
   ],
   "source": [
    "filtered_df = ixn_df.query(\n",
    "    \"combined_score >= @string_score and ((opc_fc_a >= @fc_cutoff and endo_fc_b >= @fc_cutoff) or (opc_fc_b >= @fc_cutoff and endo_fc_a >= @fc_cutoff))\"\n",
    ")\n",
    "\n",
    "filtered_df = filtered_df.sort_values(['name_a', 'name_b'])\n",
    "\n",
    "# Number of interactions\n",
    "len(filtered_df)"
   ]
  },
  {
   "cell_type": "code",
   "execution_count": 30,
   "metadata": {
    "collapsed": false
   },
   "outputs": [
    {
     "data": {
      "text/html": [
       "<div>\n",
       "<table border=\"1\" class=\"dataframe\">\n",
       "  <thead>\n",
       "    <tr style=\"text-align: right;\">\n",
       "      <th></th>\n",
       "      <th>name_a</th>\n",
       "      <th>name_b</th>\n",
       "      <th>combined_score</th>\n",
       "      <th>opc_fc_a</th>\n",
       "      <th>endo_fc_a</th>\n",
       "      <th>opc_fc_b</th>\n",
       "      <th>endo_fc_b</th>\n",
       "    </tr>\n",
       "  </thead>\n",
       "  <tbody>\n",
       "    <tr>\n",
       "      <th>326</th>\n",
       "      <td>Alcam</td>\n",
       "      <td>Itgb1</td>\n",
       "      <td>858</td>\n",
       "      <td>5.5683</td>\n",
       "      <td>-3.5519</td>\n",
       "      <td>1.0750</td>\n",
       "      <td>2.3607</td>\n",
       "    </tr>\n",
       "    <tr>\n",
       "      <th>29</th>\n",
       "      <td>Anxa1</td>\n",
       "      <td>Ccr7</td>\n",
       "      <td>900</td>\n",
       "      <td>2.6875</td>\n",
       "      <td>5.4665</td>\n",
       "      <td>2.1161</td>\n",
       "      <td>-3.9460</td>\n",
       "    </tr>\n",
       "  </tbody>\n",
       "</table>\n",
       "</div>"
      ],
      "text/plain": [
       "    name_a name_b  combined_score  opc_fc_a  endo_fc_a  opc_fc_b  endo_fc_b\n",
       "326  Alcam  Itgb1             858    5.5683    -3.5519    1.0750     2.3607\n",
       "29   Anxa1   Ccr7             900    2.6875     5.4665    2.1161    -3.9460"
      ]
     },
     "execution_count": 30,
     "metadata": {},
     "output_type": "execute_result"
    }
   ],
   "source": [
    "filtered_df.head(2)"
   ]
  },
  {
   "cell_type": "code",
   "execution_count": 31,
   "metadata": {
    "collapsed": false
   },
   "outputs": [
    {
     "data": {
      "text/html": [
       "<div>\n",
       "<table border=\"1\" class=\"dataframe\">\n",
       "  <thead>\n",
       "    <tr style=\"text-align: right;\">\n",
       "      <th></th>\n",
       "      <th>gene</th>\n",
       "      <th>interactions</th>\n",
       "    </tr>\n",
       "  </thead>\n",
       "  <tbody>\n",
       "    <tr>\n",
       "      <th>0</th>\n",
       "      <td>Itgb1</td>\n",
       "      <td>22</td>\n",
       "    </tr>\n",
       "    <tr>\n",
       "      <th>1</th>\n",
       "      <td>Il6</td>\n",
       "      <td>18</td>\n",
       "    </tr>\n",
       "    <tr>\n",
       "      <th>2</th>\n",
       "      <td>Itga4</td>\n",
       "      <td>16</td>\n",
       "    </tr>\n",
       "    <tr>\n",
       "      <th>3</th>\n",
       "      <td>Icam1</td>\n",
       "      <td>14</td>\n",
       "    </tr>\n",
       "  </tbody>\n",
       "</table>\n",
       "</div>"
      ],
      "text/plain": [
       "    gene  interactions\n",
       "0  Itgb1            22\n",
       "1    Il6            18\n",
       "2  Itga4            16\n",
       "3  Icam1            14"
      ]
     },
     "execution_count": 31,
     "metadata": {},
     "output_type": "execute_result"
    }
   ],
   "source": [
    "count_df = pandas.concat([filtered_df.name_a, filtered_df.name_b]).value_counts().reset_index()\n",
    "count_df.columns = ['gene', 'interactions']\n",
    "count_df.head(4)"
   ]
  },
  {
   "cell_type": "code",
   "execution_count": 32,
   "metadata": {
    "collapsed": false
   },
   "outputs": [
    {
     "data": {
      "text/plain": [
       "28"
      ]
     },
     "execution_count": 32,
     "metadata": {},
     "output_type": "execute_result"
    }
   ],
   "source": [
    "# Genes with interactions\n",
    "genes = set(count_df.gene)\n",
    "len(genes)"
   ]
  },
  {
   "cell_type": "code",
   "execution_count": 33,
   "metadata": {
    "collapsed": true
   },
   "outputs": [],
   "source": [
    "# Save to excel\n",
    "path = os.path.join('data', 'filtered.xlsx')\n",
    "writer = pandas.ExcelWriter(path)\n",
    "filtered_df.to_excel(writer, index=False, sheet_name='interactions')\n",
    "count_df.to_excel(writer, index=False, sheet_name='gene_counts')\n",
    "param_df.to_excel(writer, index=False, sheet_name='parameters')\n",
    "writer.close()"
   ]
  },
  {
   "cell_type": "markdown",
   "metadata": {},
   "source": [
    "## Network"
   ]
  },
  {
   "cell_type": "code",
   "execution_count": 34,
   "metadata": {
    "collapsed": false
   },
   "outputs": [],
   "source": [
    "graph = networkx.Graph()\n",
    "for i, row in fc_df.iterrows():\n",
    "    gene = row['Gene symbol']\n",
    "    if not gene in genes:\n",
    "        continue\n",
    "    graph.add_node(gene, opc_fc = row['opc_fold_change'], endo_fc = row['endothelial_fold_change'])\n",
    "for i, row in filtered_df.iterrows():\n",
    "    graph.add_edge(row.name_a, row.name_b, weight=row.combined_score)"
   ]
  },
  {
   "cell_type": "code",
   "execution_count": 35,
   "metadata": {
    "collapsed": false
   },
   "outputs": [
    {
     "data": {
      "image/png": "[encoded data removed]",
      "text/plain": [
       "<matplotlib.figure.Figure at 0x7fabd1ef8ba8>"
      ]
     },
     "metadata": {},
     "output_type": "display_data"
    }
   ],
   "source": [
    "pos = networkx.spring_layout(graph, weight='weight', iterations=500, k=2)\n",
    "pc = networkx.draw_networkx_nodes(graph, pos)\n",
    "pc = networkx.draw_networkx_edges(graph, pos)\n",
    "labels = networkx.draw_networkx_labels(graph, pos)"
   ]
  },
  {
   "cell_type": "code",
   "execution_count": 36,
   "metadata": {
    "collapsed": true
   },
   "outputs": [],
   "source": [
    "# Save network\n",
    "path = os.path.join('data', 'network.graphml')\n",
    "networkx.readwrite.write_graphml(graph, path)"
   ]
  }
 ],
 "metadata": {
  "kernelspec": {
   "display_name": "Python 3",
   "language": "python",
   "name": "python3"
  },
  "language_info": {
   "codemirror_mode": {
    "name": "ipython",
    "version": 3
   },
   "file_extension": ".py",
   "mimetype": "text/x-python",
   "name": "python",
   "nbconvert_exporter": "python",
   "pygments_lexer": "ipython3",
   "version": "3.5.1"
  }
 },
 "nbformat": 4,
 "nbformat_minor": 0
}
