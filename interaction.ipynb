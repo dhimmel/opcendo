{
 "cells": [
  {
   "cell_type": "markdown",
   "metadata": {},
   "source": [
    "# Integrating PPI data to identify OPC-endothelial cell interactors"
   ]
  },
  {
   "cell_type": "code",
   "execution_count": 1,
   "metadata": {
    "collapsed": true
   },
   "outputs": [],
   "source": [
    "import urllib\n",
    "import os\n",
    "\n",
    "import pandas\n",
    "import numpy\n",
    "import networkx\n",
    "\n",
    "%matplotlib inline"
   ]
  },
  {
   "cell_type": "code",
   "execution_count": 2,
   "metadata": {
    "collapsed": true
   },
   "outputs": [],
   "source": [
    "url_to_path = {\n",
    "    # STRING PPI\n",
    "    'http://string.embl.de/newstring_download/protein.aliases.v10/10090.protein.aliases.v10.txt.gz':\n",
    "        os.path.join('download', 'string', '10090.protein.aliases.v10.txt.gz'),\n",
    "    'http://string.embl.de/newstring_download/protein.links.v10/10090.protein.links.v10.txt.gz':\n",
    "        os.path.join('download', 'string', '10090.protein.links.v10.txt.gz'),\n",
    "}\n",
    "\n",
    "for url, path in url_to_path.items():\n",
    "    if not os.path.exists(path):\n",
    "        urllib.request.urlretrieve(url, path)"
   ]
  },
  {
   "cell_type": "markdown",
   "metadata": {},
   "source": [
    "## Read and prepare STRING"
   ]
  },
  {
   "cell_type": "code",
   "execution_count": 3,
   "metadata": {
    "collapsed": false
   },
   "outputs": [],
   "source": [
    "path = os.path.join('download', 'string', '10090.protein.aliases.v10.txt.gz')\n",
    "alias_df = pandas.read_table(path, skiprows=1, names = ['string_protein_id', 'alias', 'source'])"
   ]
  },
  {
   "cell_type": "code",
   "execution_count": 4,
   "metadata": {
    "collapsed": false
   },
   "outputs": [],
   "source": [
    "alias_df = alias_df.query(\"source == 'BLAST_KEGG_NAME BLAST_UniProt_GN Ensembl_EntrezGene Ensembl_IKMCs_ES_cells_available Ensembl_MGI Ensembl_UniProt_GN Ensembl_WikiGene'\")\n",
    "alias_df = alias_df[['string_protein_id', 'alias']]"
   ]
  },
  {
   "cell_type": "code",
   "execution_count": 5,
   "metadata": {
    "collapsed": false
   },
   "outputs": [],
   "source": [
    "path = os.path.join('download', 'string', '10090.protein.links.v10.txt.gz')\n",
    "string_df = pandas.read_table(path, sep=' ')"
   ]
  },
  {
   "cell_type": "code",
   "execution_count": 6,
   "metadata": {
    "collapsed": false
   },
   "outputs": [
    {
     "data": {
      "text/html": [
       "<div>\n",
       "<table border=\"1\" class=\"dataframe\">\n",
       "  <thead>\n",
       "    <tr style=\"text-align: right;\">\n",
       "      <th></th>\n",
       "      <th>name_a</th>\n",
       "      <th>name_b</th>\n",
       "      <th>combined_score</th>\n",
       "    </tr>\n",
       "  </thead>\n",
       "  <tbody>\n",
       "    <tr>\n",
       "      <th>3478100</th>\n",
       "      <td>0610007P14Rik</td>\n",
       "      <td>2610028H24Rik</td>\n",
       "      <td>648</td>\n",
       "    </tr>\n",
       "    <tr>\n",
       "      <th>3849791</th>\n",
       "      <td>0610007P14Rik</td>\n",
       "      <td>Aacs</td>\n",
       "      <td>153</td>\n",
       "    </tr>\n",
       "  </tbody>\n",
       "</table>\n",
       "</div>"
      ],
      "text/plain": [
       "                name_a         name_b  combined_score\n",
       "3478100  0610007P14Rik  2610028H24Rik             648\n",
       "3849791  0610007P14Rik           Aacs             153"
      ]
     },
     "execution_count": 6,
     "metadata": {},
     "output_type": "execute_result"
    }
   ],
   "source": [
    "string_df = string_df.merge(\n",
    "    alias_df.rename(columns={'string_protein_id': 'protein1', 'alias': 'name_a'})).merge(\n",
    "    alias_df.rename(columns={'string_protein_id': 'protein2', 'alias': 'name_b'}))\n",
    "\n",
    "string_df = string_df[['name_a', 'name_b', 'combined_score']].drop_duplicates()\n",
    "string_df = string_df.sort_values(['name_a', 'name_b'])\n",
    "string_df.head(2)"
   ]
  },
  {
   "cell_type": "code",
   "execution_count": 7,
   "metadata": {
    "collapsed": false
   },
   "outputs": [
    {
     "data": {
      "image/png": "[encoded data removed]",
      "text/plain": [
       "<matplotlib.figure.Figure at 0x7fa94c4d6390>"
      ]
     },
     "metadata": {},
     "output_type": "display_data"
    }
   ],
   "source": [
    "string_df.combined_score.hist(bins=30);"
   ]
  },
  {
   "cell_type": "markdown",
   "metadata": {},
   "source": [
    "## Integrate expression and GO data"
   ]
  },
  {
   "cell_type": "code",
   "execution_count": 8,
   "metadata": {
    "collapsed": false
   },
   "outputs": [],
   "source": [
    "# Parameters\n",
    "l2fc_cutoff = 1.5\n",
    "string_score = 700\n",
    "opc_microglia_min_ratio = 0.05\n",
    "go_names = [\n",
    "    'cell surface',\n",
    "    'cell-cell adhesion'\n",
    "]\n",
    "\n",
    "param_df = pandas.DataFrame({'parameter': ['log2_fold_change_cutoff', 'opc_microglia_min_ratio', 'string_score_cutoff', 'GO_terms'],\n",
    "                             'value': [l2fc_cutoff, opc_microglia_min_ratio, string_score, go_names]})"
   ]
  },
  {
   "cell_type": "code",
   "execution_count": 9,
   "metadata": {
    "collapsed": false
   },
   "outputs": [
    {
     "data": {
      "text/html": [
       "<div>\n",
       "<table border=\"1\" class=\"dataframe\">\n",
       "  <thead>\n",
       "    <tr style=\"text-align: right;\">\n",
       "      <th></th>\n",
       "      <th>Gene symbol</th>\n",
       "      <th>Description</th>\n",
       "      <th>Astrocytes</th>\n",
       "      <th>Neuron</th>\n",
       "      <th>Oligodendrocyte Precursor Cell</th>\n",
       "      <th>Newly Formed Oligodendrocyte</th>\n",
       "      <th>Myelinating Oligodendrocytes</th>\n",
       "      <th>Microglia</th>\n",
       "      <th>Endothelial Cells</th>\n",
       "      <th>cell-cell adhesion</th>\n",
       "      <th>cell surface</th>\n",
       "      <th>opc_L2FC</th>\n",
       "      <th>endothelial_L2FC</th>\n",
       "      <th>DA_Cat_L2FC</th>\n",
       "      <th>opc_microglia_ratio</th>\n",
       "    </tr>\n",
       "  </thead>\n",
       "  <tbody>\n",
       "    <tr>\n",
       "      <th>0</th>\n",
       "      <td>0610005C13Rik</td>\n",
       "      <td>NaN</td>\n",
       "      <td>0.15096</td>\n",
       "      <td>0.100</td>\n",
       "      <td>0.100</td>\n",
       "      <td>0.100</td>\n",
       "      <td>0.100</td>\n",
       "      <td>0.100</td>\n",
       "      <td>0.100</td>\n",
       "      <td>0</td>\n",
       "      <td>0</td>\n",
       "      <td>0.00000</td>\n",
       "      <td>-0.11760</td>\n",
       "      <td>NaN</td>\n",
       "      <td>1.000000</td>\n",
       "    </tr>\n",
       "    <tr>\n",
       "      <th>1</th>\n",
       "      <td>0610007C21Rik</td>\n",
       "      <td>NaN</td>\n",
       "      <td>44.89100</td>\n",
       "      <td>34.185</td>\n",
       "      <td>71.221</td>\n",
       "      <td>57.986</td>\n",
       "      <td>54.006</td>\n",
       "      <td>89.145</td>\n",
       "      <td>63.561</td>\n",
       "      <td>0</td>\n",
       "      <td>0</td>\n",
       "      <td>0.39919</td>\n",
       "      <td>0.11792</td>\n",
       "      <td>NaN</td>\n",
       "      <td>0.798934</td>\n",
       "    </tr>\n",
       "  </tbody>\n",
       "</table>\n",
       "</div>"
      ],
      "text/plain": [
       "     Gene symbol Description  Astrocytes  Neuron  \\\n",
       "0  0610005C13Rik         NaN     0.15096   0.100   \n",
       "1  0610007C21Rik         NaN    44.89100  34.185   \n",
       "\n",
       "   Oligodendrocyte Precursor Cell  Newly Formed Oligodendrocyte  \\\n",
       "0                           0.100                         0.100   \n",
       "1                          71.221                        57.986   \n",
       "\n",
       "   Myelinating Oligodendrocytes  Microglia  Endothelial Cells  \\\n",
       "0                         0.100      0.100              0.100   \n",
       "1                        54.006     89.145             63.561   \n",
       "\n",
       "   cell-cell adhesion  cell surface  opc_L2FC  endothelial_L2FC  DA_Cat_L2FC  \\\n",
       "0                   0             0   0.00000          -0.11760          NaN   \n",
       "1                   0             0   0.39919           0.11792          NaN   \n",
       "\n",
       "   opc_microglia_ratio  \n",
       "0             1.000000  \n",
       "1             0.798934  "
      ]
     },
     "execution_count": 9,
     "metadata": {},
     "output_type": "execute_result"
    }
   ],
   "source": [
    "fc_df = pandas.read_table('data/enrichment.tsv')\n",
    "fc_df['opc_microglia_ratio'] = fc_df['Oligodendrocyte Precursor Cell'] / fc_df['Microglia']\n",
    "fc_df.head(2)"
   ]
  },
  {
   "cell_type": "markdown",
   "metadata": {},
   "source": [
    "### Gene filter"
   ]
  },
  {
   "cell_type": "code",
   "execution_count": 10,
   "metadata": {
    "collapsed": false
   },
   "outputs": [
    {
     "data": {
      "text/plain": [
       "81"
      ]
     },
     "execution_count": 10,
     "metadata": {},
     "output_type": "execute_result"
    }
   ],
   "source": [
    "# Filter genes by expression and GO membership\n",
    "fc_df = fc_df.query(\"(opc_L2FC >= @l2fc_cutoff and opc_microglia_ratio > @opc_microglia_min_ratio) or endothelial_L2FC >= @l2fc_cutoff\")\n",
    "for go_name in go_names:\n",
    "    fc_df = fc_df[fc_df[go_name] == 1]\n",
    "    \n",
    "len(fc_df)"
   ]
  },
  {
   "cell_type": "code",
   "execution_count": 11,
   "metadata": {
    "collapsed": false
   },
   "outputs": [],
   "source": [
    "get_renamer = lambda x: {\n",
    "    'Gene symbol': 'name_' + x,\n",
    "    'opc_L2FC': 'opc_l2fc_' + x,\n",
    "    'endothelial_L2FC': 'endo_l2fc_' + x,\n",
    "    'DA_Cat_L2FC': 'dac_l2fc_' + x,\n",
    "}\n",
    "\n",
    "fc_df = fc_df[['Gene symbol', 'opc_L2FC', 'endothelial_L2FC', 'DA_Cat_L2FC']]\n",
    "ixn_df = string_df.merge(\n",
    "    fc_df.rename(columns=get_renamer('a'))).merge(\n",
    "    fc_df.rename(columns=get_renamer('b')))"
   ]
  },
  {
   "cell_type": "code",
   "execution_count": 12,
   "metadata": {
    "collapsed": false
   },
   "outputs": [
    {
     "data": {
      "text/html": [
       "<div>\n",
       "<table border=\"1\" class=\"dataframe\">\n",
       "  <thead>\n",
       "    <tr style=\"text-align: right;\">\n",
       "      <th></th>\n",
       "      <th>name_a</th>\n",
       "      <th>name_b</th>\n",
       "      <th>combined_score</th>\n",
       "      <th>opc_l2fc_a</th>\n",
       "      <th>endo_l2fc_a</th>\n",
       "      <th>dac_l2fc_a</th>\n",
       "      <th>opc_l2fc_b</th>\n",
       "      <th>endo_l2fc_b</th>\n",
       "      <th>dac_l2fc_b</th>\n",
       "    </tr>\n",
       "  </thead>\n",
       "  <tbody>\n",
       "    <tr>\n",
       "      <th>0</th>\n",
       "      <td>Alcam</td>\n",
       "      <td>B2m</td>\n",
       "      <td>191</td>\n",
       "      <td>5.5683</td>\n",
       "      <td>-3.5519</td>\n",
       "      <td>NaN</td>\n",
       "      <td>2.7299</td>\n",
       "      <td>1.6164</td>\n",
       "      <td>NaN</td>\n",
       "    </tr>\n",
       "    <tr>\n",
       "      <th>1</th>\n",
       "      <td>Cd1d1</td>\n",
       "      <td>B2m</td>\n",
       "      <td>993</td>\n",
       "      <td>2.0542</td>\n",
       "      <td>1.4210</td>\n",
       "      <td>NaN</td>\n",
       "      <td>2.7299</td>\n",
       "      <td>1.6164</td>\n",
       "      <td>NaN</td>\n",
       "    </tr>\n",
       "  </tbody>\n",
       "</table>\n",
       "</div>"
      ],
      "text/plain": [
       "  name_a name_b  combined_score  opc_l2fc_a  endo_l2fc_a  dac_l2fc_a  \\\n",
       "0  Alcam    B2m             191      5.5683      -3.5519         NaN   \n",
       "1  Cd1d1    B2m             993      2.0542       1.4210         NaN   \n",
       "\n",
       "   opc_l2fc_b  endo_l2fc_b  dac_l2fc_b  \n",
       "0      2.7299       1.6164         NaN  \n",
       "1      2.7299       1.6164         NaN  "
      ]
     },
     "execution_count": 12,
     "metadata": {},
     "output_type": "execute_result"
    }
   ],
   "source": [
    "ixn_df.head(2)"
   ]
  },
  {
   "cell_type": "code",
   "execution_count": 13,
   "metadata": {
    "collapsed": false
   },
   "outputs": [
    {
     "data": {
      "text/plain": [
       "620"
      ]
     },
     "execution_count": 13,
     "metadata": {},
     "output_type": "execute_result"
    }
   ],
   "source": [
    "len(ixn_df)"
   ]
  },
  {
   "cell_type": "markdown",
   "metadata": {},
   "source": [
    "## Filter for candidate interactions"
   ]
  },
  {
   "cell_type": "code",
   "execution_count": 14,
   "metadata": {
    "collapsed": false
   },
   "outputs": [
    {
     "data": {
      "text/plain": [
       "60"
      ]
     },
     "execution_count": 14,
     "metadata": {},
     "output_type": "execute_result"
    }
   ],
   "source": [
    "filtered_df = ixn_df.query(\n",
    "    \"combined_score >= @string_score and ((opc_l2fc_a >= @l2fc_cutoff and endo_l2fc_b >= @l2fc_cutoff) or (opc_l2fc_b >= @l2fc_cutoff and endo_l2fc_a >= @l2fc_cutoff))\"\n",
    ")\n",
    "\n",
    "filtered_df = filtered_df.sort_values(['name_a', 'name_b'])\n",
    "\n",
    "# Number of interactions\n",
    "len(filtered_df)"
   ]
  },
  {
   "cell_type": "code",
   "execution_count": 15,
   "metadata": {
    "collapsed": false
   },
   "outputs": [
    {
     "data": {
      "text/html": [
       "<div>\n",
       "<table border=\"1\" class=\"dataframe\">\n",
       "  <thead>\n",
       "    <tr style=\"text-align: right;\">\n",
       "      <th></th>\n",
       "      <th>name_a</th>\n",
       "      <th>name_b</th>\n",
       "      <th>combined_score</th>\n",
       "      <th>opc_l2fc_a</th>\n",
       "      <th>endo_l2fc_a</th>\n",
       "      <th>dac_l2fc_a</th>\n",
       "      <th>opc_l2fc_b</th>\n",
       "      <th>endo_l2fc_b</th>\n",
       "      <th>dac_l2fc_b</th>\n",
       "    </tr>\n",
       "  </thead>\n",
       "  <tbody>\n",
       "    <tr>\n",
       "      <th>220</th>\n",
       "      <td>Alcam</td>\n",
       "      <td>Itgb1</td>\n",
       "      <td>858</td>\n",
       "      <td>5.5683</td>\n",
       "      <td>-3.5519</td>\n",
       "      <td>NaN</td>\n",
       "      <td>1.0750</td>\n",
       "      <td>2.3607</td>\n",
       "      <td>NaN</td>\n",
       "    </tr>\n",
       "    <tr>\n",
       "      <th>48</th>\n",
       "      <td>Anxa1</td>\n",
       "      <td>Cxcl12</td>\n",
       "      <td>901</td>\n",
       "      <td>2.6875</td>\n",
       "      <td>5.4665</td>\n",
       "      <td>NaN</td>\n",
       "      <td>1.5265</td>\n",
       "      <td>1.4406</td>\n",
       "      <td>NaN</td>\n",
       "    </tr>\n",
       "  </tbody>\n",
       "</table>\n",
       "</div>"
      ],
      "text/plain": [
       "    name_a  name_b  combined_score  opc_l2fc_a  endo_l2fc_a  dac_l2fc_a  \\\n",
       "220  Alcam   Itgb1             858      5.5683      -3.5519         NaN   \n",
       "48   Anxa1  Cxcl12             901      2.6875       5.4665         NaN   \n",
       "\n",
       "     opc_l2fc_b  endo_l2fc_b  dac_l2fc_b  \n",
       "220      1.0750       2.3607         NaN  \n",
       "48       1.5265       1.4406         NaN  "
      ]
     },
     "execution_count": 15,
     "metadata": {},
     "output_type": "execute_result"
    }
   ],
   "source": [
    "filtered_df.head(2)"
   ]
  },
  {
   "cell_type": "code",
   "execution_count": 16,
   "metadata": {
    "collapsed": false
   },
   "outputs": [
    {
     "data": {
      "text/html": [
       "<div>\n",
       "<table border=\"1\" class=\"dataframe\">\n",
       "  <thead>\n",
       "    <tr style=\"text-align: right;\">\n",
       "      <th></th>\n",
       "      <th>gene</th>\n",
       "      <th>interactions</th>\n",
       "    </tr>\n",
       "  </thead>\n",
       "  <tbody>\n",
       "    <tr>\n",
       "      <th>0</th>\n",
       "      <td>Itgb1</td>\n",
       "      <td>20</td>\n",
       "    </tr>\n",
       "    <tr>\n",
       "      <th>1</th>\n",
       "      <td>Ptprc</td>\n",
       "      <td>12</td>\n",
       "    </tr>\n",
       "    <tr>\n",
       "      <th>2</th>\n",
       "      <td>Il6</td>\n",
       "      <td>10</td>\n",
       "    </tr>\n",
       "    <tr>\n",
       "      <th>3</th>\n",
       "      <td>Cxcl12</td>\n",
       "      <td>8</td>\n",
       "    </tr>\n",
       "  </tbody>\n",
       "</table>\n",
       "</div>"
      ],
      "text/plain": [
       "     gene  interactions\n",
       "0   Itgb1            20\n",
       "1   Ptprc            12\n",
       "2     Il6            10\n",
       "3  Cxcl12             8"
      ]
     },
     "execution_count": 16,
     "metadata": {},
     "output_type": "execute_result"
    }
   ],
   "source": [
    "count_df = pandas.concat([filtered_df.name_a, filtered_df.name_b]).value_counts().reset_index()\n",
    "count_df.columns = ['gene', 'interactions']\n",
    "count_df.head(4)"
   ]
  },
  {
   "cell_type": "code",
   "execution_count": 17,
   "metadata": {
    "collapsed": false
   },
   "outputs": [
    {
     "data": {
      "text/plain": [
       "23"
      ]
     },
     "execution_count": 17,
     "metadata": {},
     "output_type": "execute_result"
    }
   ],
   "source": [
    "# Genes with interactions\n",
    "genes = set(count_df.gene)\n",
    "len(genes)"
   ]
  },
  {
   "cell_type": "code",
   "execution_count": 23,
   "metadata": {
    "collapsed": true
   },
   "outputs": [],
   "source": [
    "# Save to excel\n",
    "path = os.path.join('data', 'filtered.xlsx')\n",
    "writer = pandas.ExcelWriter(path, engine='xlsxwriter')\n",
    "filtered_df.to_excel(writer, index=False, sheet_name='interactions')\n",
    "count_df.to_excel(writer, index=False, sheet_name='gene_counts')\n",
    "param_df.to_excel(writer, index=False, sheet_name='parameters')\n",
    "for sheet in writer.sheets.values():\n",
    "    sheet.freeze_panes(1, 0)\n",
    "writer.close()"
   ]
  },
  {
   "cell_type": "markdown",
   "metadata": {},
   "source": [
    "## Network"
   ]
  },
  {
   "cell_type": "code",
   "execution_count": 19,
   "metadata": {
    "collapsed": false
   },
   "outputs": [],
   "source": [
    "graph = networkx.Graph()\n",
    "for i, row in fc_df.iterrows():\n",
    "    gene = row['Gene symbol']\n",
    "    if not gene in genes:\n",
    "        continue\n",
    "    graph.add_node(gene,\n",
    "                   opc_l2fc = row['opc_L2FC'],\n",
    "                   endo_l2fc = row['endothelial_L2FC'],\n",
    "                   dac_l2fc = row['DA_Cat_L2FC'])\n",
    "for i, row in filtered_df.iterrows():\n",
    "    graph.add_edge(row.name_a, row.name_b, weight=row.combined_score)"
   ]
  },
  {
   "cell_type": "code",
   "execution_count": 20,
   "metadata": {
    "collapsed": false
   },
   "outputs": [
    {
     "data": {
      "image/png": "[encoded data removed]",
      "text/plain": [
       "<matplotlib.figure.Figure at 0x7fa94627a2b0>"
      ]
     },
     "metadata": {},
     "output_type": "display_data"
    }
   ],
   "source": [
    "pos = networkx.spring_layout(graph, weight='weight', iterations=500, k=2)\n",
    "pc = networkx.draw_networkx_nodes(graph, pos)\n",
    "pc = networkx.draw_networkx_edges(graph, pos)\n",
    "labels = networkx.draw_networkx_labels(graph, pos)"
   ]
  },
  {
   "cell_type": "code",
   "execution_count": 21,
   "metadata": {
    "collapsed": true
   },
   "outputs": [],
   "source": [
    "# Save network\n",
    "path = os.path.join('data', 'network.graphml')\n",
    "networkx.readwrite.write_graphml(graph, path)"
   ]
  }
 ],
 "metadata": {
  "kernelspec": {
   "display_name": "Python 3",
   "language": "python",
   "name": "python3"
  },
  "language_info": {
   "codemirror_mode": {
    "name": "ipython",
    "version": 3
   },
   "file_extension": ".py",
   "mimetype": "text/x-python",
   "name": "python",
   "nbconvert_exporter": "python",
   "pygments_lexer": "ipython3",
   "version": "3.5.1"
  }
 },
 "nbformat": 4,
 "nbformat_minor": 0
}
