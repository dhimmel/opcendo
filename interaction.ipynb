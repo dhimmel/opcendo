{
 "cells": [
  {
   "cell_type": "markdown",
   "metadata": {},
   "source": [
    "# Integrating PPI data to identify OPC-endothelial cell interactors"
   ]
  },
  {
   "cell_type": "code",
   "execution_count": 1,
   "metadata": {
    "collapsed": true
   },
   "outputs": [],
   "source": [
    "import urllib\n",
    "import os\n",
    "import json\n",
    "\n",
    "import pandas\n",
    "import numpy\n",
    "import networkx\n",
    "\n",
    "%matplotlib inline"
   ]
  },
  {
   "cell_type": "markdown",
   "metadata": {},
   "source": [
    "## Download STRING if missing"
   ]
  },
  {
   "cell_type": "code",
   "execution_count": 2,
   "metadata": {
    "collapsed": true
   },
   "outputs": [],
   "source": [
    "url_to_path = {\n",
    "    # STRING PPI\n",
    "    'http://string.embl.de/newstring_download/protein.aliases.v10/10090.protein.aliases.v10.txt.gz':\n",
    "        os.path.join('download', 'string', '10090.protein.aliases.v10.txt.gz'),\n",
    "    'http://string.embl.de/newstring_download/protein.links.v10/10090.protein.links.v10.txt.gz':\n",
    "        os.path.join('download', 'string', '10090.protein.links.v10.txt.gz'),\n",
    "}\n",
    "\n",
    "for url, path in url_to_path.items():\n",
    "    if not os.path.exists(path):\n",
    "        urllib.request.urlretrieve(url, path)"
   ]
  },
  {
   "cell_type": "markdown",
   "metadata": {},
   "source": [
    "## Read and prepare STRING"
   ]
  },
  {
   "cell_type": "code",
   "execution_count": 3,
   "metadata": {
    "collapsed": false
   },
   "outputs": [],
   "source": [
    "path = os.path.join('download', 'string', '10090.protein.aliases.v10.txt.gz')\n",
    "alias_df = pandas.read_table(path, skiprows=1, names = ['string_protein_id', 'alias', 'source'])"
   ]
  },
  {
   "cell_type": "code",
   "execution_count": 4,
   "metadata": {
    "collapsed": false
   },
   "outputs": [],
   "source": [
    "alias_df = alias_df.query(\"source == 'BLAST_KEGG_NAME BLAST_UniProt_GN Ensembl_EntrezGene Ensembl_IKMCs_ES_cells_available Ensembl_MGI Ensembl_UniProt_GN Ensembl_WikiGene'\")\n",
    "alias_df = alias_df[['string_protein_id', 'alias']]"
   ]
  },
  {
   "cell_type": "code",
   "execution_count": 5,
   "metadata": {
    "collapsed": false
   },
   "outputs": [
    {
     "data": {
      "text/html": [
       "<div>\n",
       "<table border=\"1\" class=\"dataframe\">\n",
       "  <thead>\n",
       "    <tr style=\"text-align: right;\">\n",
       "      <th></th>\n",
       "      <th>opc_candidate</th>\n",
       "      <th>endo_candidate</th>\n",
       "      <th>combined_score</th>\n",
       "    </tr>\n",
       "  </thead>\n",
       "  <tbody>\n",
       "    <tr>\n",
       "      <th>3478100</th>\n",
       "      <td>0610007P14Rik</td>\n",
       "      <td>2610028H24Rik</td>\n",
       "      <td>648</td>\n",
       "    </tr>\n",
       "    <tr>\n",
       "      <th>3849791</th>\n",
       "      <td>0610007P14Rik</td>\n",
       "      <td>Aacs</td>\n",
       "      <td>153</td>\n",
       "    </tr>\n",
       "  </tbody>\n",
       "</table>\n",
       "</div>"
      ],
      "text/plain": [
       "         opc_candidate endo_candidate  combined_score\n",
       "3478100  0610007P14Rik  2610028H24Rik             648\n",
       "3849791  0610007P14Rik           Aacs             153"
      ]
     },
     "execution_count": 5,
     "metadata": {},
     "output_type": "execute_result"
    }
   ],
   "source": [
    "path = os.path.join('download', 'string', '10090.protein.links.v10.txt.gz')\n",
    "string_df = pandas.read_table(path, sep=' ')\n",
    "\n",
    "string_df = string_df.merge(\n",
    "    alias_df.rename(columns={'string_protein_id': 'protein1', 'alias': 'opc_candidate'})).merge(\n",
    "    alias_df.rename(columns={'string_protein_id': 'protein2', 'alias': 'endo_candidate'}))\n",
    "\n",
    "string_df = string_df[['opc_candidate', 'endo_candidate', 'combined_score']].drop_duplicates()\n",
    "string_df = string_df.sort_values(['opc_candidate', 'endo_candidate'])\n",
    "string_df.head(2)"
   ]
  },
  {
   "cell_type": "code",
   "execution_count": 6,
   "metadata": {
    "collapsed": false
   },
   "outputs": [
    {
     "data": {
      "text/plain": [
       "4556514"
      ]
     },
     "execution_count": 6,
     "metadata": {},
     "output_type": "execute_result"
    }
   ],
   "source": [
    "len(string_df)"
   ]
  },
  {
   "cell_type": "code",
   "execution_count": 7,
   "metadata": {
    "collapsed": false
   },
   "outputs": [
    {
     "data": {
      "image/png": "[encoded data removed]",
      "text/plain": [
       "<matplotlib.figure.Figure at 0x7fc21e5dd860>"
      ]
     },
     "metadata": {},
     "output_type": "display_data"
    }
   ],
   "source": [
    "string_df.combined_score.hist(bins=30);"
   ]
  },
  {
   "cell_type": "markdown",
   "metadata": {},
   "source": [
    "## Integrate expression data"
   ]
  },
  {
   "cell_type": "code",
   "execution_count": 8,
   "metadata": {
    "collapsed": false
   },
   "outputs": [
    {
     "data": {
      "text/html": [
       "<div>\n",
       "<table border=\"1\" class=\"dataframe\">\n",
       "  <thead>\n",
       "    <tr style=\"text-align: right;\">\n",
       "      <th></th>\n",
       "      <th>Gene symbol</th>\n",
       "      <th>opc_L2FC</th>\n",
       "      <th>opc_microglia_ratio</th>\n",
       "      <th>endothelial_L2FC</th>\n",
       "      <th>DA_Cat_L2FC</th>\n",
       "    </tr>\n",
       "  </thead>\n",
       "  <tbody>\n",
       "    <tr>\n",
       "      <th>0</th>\n",
       "      <td>0610005C13Rik</td>\n",
       "      <td>0.00000</td>\n",
       "      <td>1.000000</td>\n",
       "      <td>-0.11760</td>\n",
       "      <td>NaN</td>\n",
       "    </tr>\n",
       "    <tr>\n",
       "      <th>1</th>\n",
       "      <td>0610007C21Rik</td>\n",
       "      <td>0.39919</td>\n",
       "      <td>0.798934</td>\n",
       "      <td>0.11792</td>\n",
       "      <td>NaN</td>\n",
       "    </tr>\n",
       "  </tbody>\n",
       "</table>\n",
       "</div>"
      ],
      "text/plain": [
       "     Gene symbol  opc_L2FC  opc_microglia_ratio  endothelial_L2FC  DA_Cat_L2FC\n",
       "0  0610005C13Rik   0.00000             1.000000          -0.11760          NaN\n",
       "1  0610007C21Rik   0.39919             0.798934           0.11792          NaN"
      ]
     },
     "execution_count": 8,
     "metadata": {},
     "output_type": "execute_result"
    }
   ],
   "source": [
    "fc_df = pandas.read_table('data/enrichment.tsv')\n",
    "fc_df['opc_microglia_ratio'] = fc_df['Oligodendrocyte Precursor Cell'] / fc_df['Microglia']\n",
    "fc_df = fc_df[['Gene symbol', 'opc_L2FC', 'opc_microglia_ratio', 'endothelial_L2FC', 'DA_Cat_L2FC']]\n",
    "fc_df.head(2)"
   ]
  },
  {
   "cell_type": "code",
   "execution_count": 9,
   "metadata": {
    "collapsed": false
   },
   "outputs": [
    {
     "data": {
      "text/plain": [
       "4430882"
      ]
     },
     "execution_count": 9,
     "metadata": {},
     "output_type": "execute_result"
    }
   ],
   "source": [
    "get_renamer = lambda x: {\n",
    "    'Gene symbol': x,\n",
    "    'opc_L2FC': '{}_opc_l2fc'.format(x),\n",
    "    'opc_microglia_ratio': '{}_opc_microglia_ratio'.format(x),\n",
    "    'endothelial_L2FC': '{}_endo_l2fc'.format(x),\n",
    "    'DA_Cat_L2FC': '{}_dac_l2fc'.format(x),\n",
    "}\n",
    "\n",
    "ixn_df = string_df.merge(\n",
    "    fc_df.rename(columns=get_renamer('opc_candidate'))).merge(\n",
    "    fc_df.rename(columns=get_renamer('endo_candidate')))\n",
    "\n",
    "ixn_df = ixn_df.sort_values(['opc_candidate', 'endo_candidate'])\n",
    "\n",
    "len(ixn_df)"
   ]
  },
  {
   "cell_type": "code",
   "execution_count": 10,
   "metadata": {
    "collapsed": false
   },
   "outputs": [
    {
     "data": {
      "text/html": [
       "<div>\n",
       "<table border=\"1\" class=\"dataframe\">\n",
       "  <thead>\n",
       "    <tr style=\"text-align: right;\">\n",
       "      <th></th>\n",
       "      <th>opc_candidate</th>\n",
       "      <th>endo_candidate</th>\n",
       "      <th>combined_score</th>\n",
       "      <th>opc_candidate_opc_l2fc</th>\n",
       "      <th>opc_candidate_opc_microglia_ratio</th>\n",
       "      <th>opc_candidate_endo_l2fc</th>\n",
       "      <th>opc_candidate_dac_l2fc</th>\n",
       "      <th>endo_candidate_opc_l2fc</th>\n",
       "      <th>endo_candidate_opc_microglia_ratio</th>\n",
       "      <th>endo_candidate_endo_l2fc</th>\n",
       "      <th>endo_candidate_dac_l2fc</th>\n",
       "    </tr>\n",
       "  </thead>\n",
       "  <tbody>\n",
       "    <tr>\n",
       "      <th>0</th>\n",
       "      <td>0610007P14Rik</td>\n",
       "      <td>2610028H24Rik</td>\n",
       "      <td>648</td>\n",
       "      <td>-0.23887</td>\n",
       "      <td>5.232446</td>\n",
       "      <td>-2.0939</td>\n",
       "      <td>NaN</td>\n",
       "      <td>0.0000</td>\n",
       "      <td>1.000000</td>\n",
       "      <td>3.203400e-16</td>\n",
       "      <td>NaN</td>\n",
       "    </tr>\n",
       "    <tr>\n",
       "      <th>47</th>\n",
       "      <td>0610007P14Rik</td>\n",
       "      <td>Aacs</td>\n",
       "      <td>153</td>\n",
       "      <td>-0.23887</td>\n",
       "      <td>5.232446</td>\n",
       "      <td>-2.0939</td>\n",
       "      <td>NaN</td>\n",
       "      <td>-2.4177</td>\n",
       "      <td>1.798442</td>\n",
       "      <td>-3.773100e+00</td>\n",
       "      <td>NaN</td>\n",
       "    </tr>\n",
       "  </tbody>\n",
       "</table>\n",
       "</div>"
      ],
      "text/plain": [
       "    opc_candidate endo_candidate  combined_score  opc_candidate_opc_l2fc  \\\n",
       "0   0610007P14Rik  2610028H24Rik             648                -0.23887   \n",
       "47  0610007P14Rik           Aacs             153                -0.23887   \n",
       "\n",
       "    opc_candidate_opc_microglia_ratio  opc_candidate_endo_l2fc  \\\n",
       "0                            5.232446                  -2.0939   \n",
       "47                           5.232446                  -2.0939   \n",
       "\n",
       "    opc_candidate_dac_l2fc  endo_candidate_opc_l2fc  \\\n",
       "0                      NaN                   0.0000   \n",
       "47                     NaN                  -2.4177   \n",
       "\n",
       "    endo_candidate_opc_microglia_ratio  endo_candidate_endo_l2fc  \\\n",
       "0                             1.000000              3.203400e-16   \n",
       "47                            1.798442             -3.773100e+00   \n",
       "\n",
       "    endo_candidate_dac_l2fc  \n",
       "0                       NaN  \n",
       "47                      NaN  "
      ]
     },
     "execution_count": 10,
     "metadata": {},
     "output_type": "execute_result"
    }
   ],
   "source": [
    "ixn_df.head(2)"
   ]
  },
  {
   "cell_type": "markdown",
   "metadata": {},
   "source": [
    "## Read GO Annotations"
   ]
  },
  {
   "cell_type": "code",
   "execution_count": 11,
   "metadata": {
    "collapsed": false
   },
   "outputs": [
    {
     "data": {
      "text/plain": [
       "['cell-cell adhesion', 'cell surface']"
      ]
     },
     "execution_count": 11,
     "metadata": {},
     "output_type": "execute_result"
    }
   ],
   "source": [
    "with open('data/go-to-genes.json') as fp:\n",
    "    go_to_genes = json.load(fp)\n",
    "\n",
    "# GO Terms to choose from\n",
    "list(go_to_genes.keys())"
   ]
  },
  {
   "cell_type": "markdown",
   "metadata": {},
   "source": [
    "## Filter for candidate interactions"
   ]
  },
  {
   "cell_type": "code",
   "execution_count": 12,
   "metadata": {
    "collapsed": false
   },
   "outputs": [],
   "source": [
    "# Parameters\n",
    "l2fc_cutoff = 1.5\n",
    "string_score = 700\n",
    "opc_microglia_min_ratio = 0.05"
   ]
  },
  {
   "cell_type": "code",
   "execution_count": 13,
   "metadata": {
    "collapsed": false
   },
   "outputs": [
    {
     "data": {
      "text/plain": [
       "(140, 140)"
      ]
     },
     "execution_count": 13,
     "metadata": {},
     "output_type": "execute_result"
    }
   ],
   "source": [
    "opc_go_terms = [\n",
    "    'cell surface',\n",
    "    'cell-cell adhesion'\n",
    "]\n",
    "\n",
    "endo_go_terms = [\n",
    "    'cell surface',\n",
    "    'cell-cell adhesion'\n",
    "]\n",
    "\n",
    "opc_go_subset = set.intersection(*[set(go_to_genes[term]) for term in opc_go_terms])\n",
    "endo_go_subset = set.intersection(*[set(go_to_genes[term]) for term in endo_go_terms])\n",
    "\n",
    "len(opc_go_subset), len(endo_go_subset)"
   ]
  },
  {
   "cell_type": "code",
   "execution_count": 14,
   "metadata": {
    "collapsed": true
   },
   "outputs": [],
   "source": [
    "# Save parameters\n",
    "param_df = pandas.DataFrame({\n",
    "    'parameter': ['log2_fold_change_cutoff', 'opc_microglia_min_ratio', 'string_score_cutoff', 'opc_GO_terms', 'endo_GO_terms'],\n",
    "    'value': [l2fc_cutoff, opc_microglia_min_ratio, string_score, opc_go_terms, endo_go_terms]})"
   ]
  },
  {
   "cell_type": "code",
   "execution_count": 15,
   "metadata": {
    "collapsed": false
   },
   "outputs": [
    {
     "data": {
      "text/plain": [
       "29"
      ]
     },
     "execution_count": 15,
     "metadata": {},
     "output_type": "execute_result"
    }
   ],
   "source": [
    "filtered_df = ixn_df.copy()\n",
    "\n",
    "# Filter interactions based on STRING score\n",
    "filtered_df = filtered_df.query(\"combined_score >= @string_score\")\n",
    "\n",
    "# Filter for OPC candidates that are enriched in expression in OPCs\n",
    "filtered_df = filtered_df.query(\"opc_candidate_opc_l2fc >= @l2fc_cutoff and opc_candidate_opc_microglia_ratio > @opc_microglia_min_ratio\")\n",
    "\n",
    "# Filter for endothelial candidates that are enriched in expression in endothelial cells\n",
    "filtered_df = filtered_df.query(\"endo_candidate_endo_l2fc >= @l2fc_cutoff\")\n",
    "\n",
    "# Filter for OPC candidates by GO term membership\n",
    "filtered_df = filtered_df.query(\"opc_candidate in @opc_go_subset\")\n",
    "\n",
    "# Filter for endothelial candidates by GO term membership\n",
    "filtered_df = filtered_df.query(\"endo_candidate in @endo_go_subset\")\n",
    "\n",
    "len(filtered_df)"
   ]
  },
  {
   "cell_type": "code",
   "execution_count": 16,
   "metadata": {
    "collapsed": false
   },
   "outputs": [
    {
     "data": {
      "text/html": [
       "<div>\n",
       "<table border=\"1\" class=\"dataframe\">\n",
       "  <thead>\n",
       "    <tr style=\"text-align: right;\">\n",
       "      <th></th>\n",
       "      <th>opc_candidate</th>\n",
       "      <th>endo_candidate</th>\n",
       "      <th>combined_score</th>\n",
       "      <th>opc_candidate_opc_l2fc</th>\n",
       "      <th>opc_candidate_opc_microglia_ratio</th>\n",
       "      <th>opc_candidate_endo_l2fc</th>\n",
       "      <th>opc_candidate_dac_l2fc</th>\n",
       "      <th>endo_candidate_opc_l2fc</th>\n",
       "      <th>endo_candidate_opc_microglia_ratio</th>\n",
       "      <th>endo_candidate_endo_l2fc</th>\n",
       "      <th>endo_candidate_dac_l2fc</th>\n",
       "    </tr>\n",
       "  </thead>\n",
       "  <tbody>\n",
       "    <tr>\n",
       "      <th>2812820</th>\n",
       "      <td>Alcam</td>\n",
       "      <td>Itgb1</td>\n",
       "      <td>858</td>\n",
       "      <td>5.5683</td>\n",
       "      <td>174.060237</td>\n",
       "      <td>-3.5519</td>\n",
       "      <td>NaN</td>\n",
       "      <td>1.0750</td>\n",
       "      <td>1.570693</td>\n",
       "      <td>2.3607</td>\n",
       "      <td>NaN</td>\n",
       "    </tr>\n",
       "    <tr>\n",
       "      <th>4342010</th>\n",
       "      <td>Anxa1</td>\n",
       "      <td>Cxcr4</td>\n",
       "      <td>903</td>\n",
       "      <td>2.6875</td>\n",
       "      <td>0.617111</td>\n",
       "      <td>5.4665</td>\n",
       "      <td>NaN</td>\n",
       "      <td>1.1729</td>\n",
       "      <td>0.468453</td>\n",
       "      <td>2.7818</td>\n",
       "      <td>1.1388</td>\n",
       "    </tr>\n",
       "    <tr>\n",
       "      <th>1180048</th>\n",
       "      <td>Anxa1</td>\n",
       "      <td>Il6</td>\n",
       "      <td>705</td>\n",
       "      <td>2.6875</td>\n",
       "      <td>0.617111</td>\n",
       "      <td>5.4665</td>\n",
       "      <td>NaN</td>\n",
       "      <td>0.0000</td>\n",
       "      <td>0.879275</td>\n",
       "      <td>2.4959</td>\n",
       "      <td>NaN</td>\n",
       "    </tr>\n",
       "    <tr>\n",
       "      <th>1102123</th>\n",
       "      <td>Cd1d1</td>\n",
       "      <td>B2m</td>\n",
       "      <td>993</td>\n",
       "      <td>2.0542</td>\n",
       "      <td>0.385555</td>\n",
       "      <td>1.4210</td>\n",
       "      <td>NaN</td>\n",
       "      <td>2.7299</td>\n",
       "      <td>0.132059</td>\n",
       "      <td>1.6164</td>\n",
       "      <td>NaN</td>\n",
       "    </tr>\n",
       "    <tr>\n",
       "      <th>3443688</th>\n",
       "      <td>Cxcl12</td>\n",
       "      <td>Anxa1</td>\n",
       "      <td>901</td>\n",
       "      <td>1.5265</td>\n",
       "      <td>7.270368</td>\n",
       "      <td>1.4406</td>\n",
       "      <td>NaN</td>\n",
       "      <td>2.6875</td>\n",
       "      <td>0.617111</td>\n",
       "      <td>5.4665</td>\n",
       "      <td>NaN</td>\n",
       "    </tr>\n",
       "  </tbody>\n",
       "</table>\n",
       "</div>"
      ],
      "text/plain": [
       "        opc_candidate endo_candidate  combined_score  opc_candidate_opc_l2fc  \\\n",
       "2812820         Alcam          Itgb1             858                  5.5683   \n",
       "4342010         Anxa1          Cxcr4             903                  2.6875   \n",
       "1180048         Anxa1            Il6             705                  2.6875   \n",
       "1102123         Cd1d1            B2m             993                  2.0542   \n",
       "3443688        Cxcl12          Anxa1             901                  1.5265   \n",
       "\n",
       "         opc_candidate_opc_microglia_ratio  opc_candidate_endo_l2fc  \\\n",
       "2812820                         174.060237                  -3.5519   \n",
       "4342010                           0.617111                   5.4665   \n",
       "1180048                           0.617111                   5.4665   \n",
       "1102123                           0.385555                   1.4210   \n",
       "3443688                           7.270368                   1.4406   \n",
       "\n",
       "         opc_candidate_dac_l2fc  endo_candidate_opc_l2fc  \\\n",
       "2812820                     NaN                   1.0750   \n",
       "4342010                     NaN                   1.1729   \n",
       "1180048                     NaN                   0.0000   \n",
       "1102123                     NaN                   2.7299   \n",
       "3443688                     NaN                   2.6875   \n",
       "\n",
       "         endo_candidate_opc_microglia_ratio  endo_candidate_endo_l2fc  \\\n",
       "2812820                            1.570693                    2.3607   \n",
       "4342010                            0.468453                    2.7818   \n",
       "1180048                            0.879275                    2.4959   \n",
       "1102123                            0.132059                    1.6164   \n",
       "3443688                            0.617111                    5.4665   \n",
       "\n",
       "         endo_candidate_dac_l2fc  \n",
       "2812820                      NaN  \n",
       "4342010                   1.1388  \n",
       "1180048                      NaN  \n",
       "1102123                      NaN  \n",
       "3443688                      NaN  "
      ]
     },
     "execution_count": 16,
     "metadata": {},
     "output_type": "execute_result"
    }
   ],
   "source": [
    "filtered_df.head()"
   ]
  },
  {
   "cell_type": "code",
   "execution_count": 17,
   "metadata": {
    "collapsed": false
   },
   "outputs": [
    {
     "data": {
      "text/html": [
       "<div>\n",
       "<table border=\"1\" class=\"dataframe\">\n",
       "  <thead>\n",
       "    <tr style=\"text-align: right;\">\n",
       "      <th></th>\n",
       "      <th>gene</th>\n",
       "      <th>interactions</th>\n",
       "    </tr>\n",
       "  </thead>\n",
       "  <tbody>\n",
       "    <tr>\n",
       "      <th>0</th>\n",
       "      <td>Ptprc</td>\n",
       "      <td>6</td>\n",
       "    </tr>\n",
       "    <tr>\n",
       "      <th>1</th>\n",
       "      <td>Cxcl12</td>\n",
       "      <td>4</td>\n",
       "    </tr>\n",
       "    <tr>\n",
       "      <th>2</th>\n",
       "      <td>Vcam1</td>\n",
       "      <td>3</td>\n",
       "    </tr>\n",
       "    <tr>\n",
       "      <th>3</th>\n",
       "      <td>Anxa1</td>\n",
       "      <td>2</td>\n",
       "    </tr>\n",
       "  </tbody>\n",
       "</table>\n",
       "</div>"
      ],
      "text/plain": [
       "     gene  interactions\n",
       "0   Ptprc             6\n",
       "1  Cxcl12             4\n",
       "2   Vcam1             3\n",
       "3   Anxa1             2"
      ]
     },
     "execution_count": 17,
     "metadata": {},
     "output_type": "execute_result"
    }
   ],
   "source": [
    "# Genes with the most OPC candidate interactions\n",
    "opc_count_df = filtered_df.opc_candidate.value_counts().reset_index()\n",
    "opc_count_df.columns = ['gene', 'interactions']\n",
    "opc_count_df.head(4)"
   ]
  },
  {
   "cell_type": "code",
   "execution_count": 18,
   "metadata": {
    "collapsed": false
   },
   "outputs": [
    {
     "data": {
      "text/html": [
       "<div>\n",
       "<table border=\"1\" class=\"dataframe\">\n",
       "  <thead>\n",
       "    <tr style=\"text-align: right;\">\n",
       "      <th></th>\n",
       "      <th>gene</th>\n",
       "      <th>interactions</th>\n",
       "    </tr>\n",
       "  </thead>\n",
       "  <tbody>\n",
       "    <tr>\n",
       "      <th>0</th>\n",
       "      <td>Itgb1</td>\n",
       "      <td>9</td>\n",
       "    </tr>\n",
       "    <tr>\n",
       "      <th>1</th>\n",
       "      <td>Il6</td>\n",
       "      <td>5</td>\n",
       "    </tr>\n",
       "    <tr>\n",
       "      <th>2</th>\n",
       "      <td>Itga4</td>\n",
       "      <td>4</td>\n",
       "    </tr>\n",
       "    <tr>\n",
       "      <th>3</th>\n",
       "      <td>B2m</td>\n",
       "      <td>3</td>\n",
       "    </tr>\n",
       "  </tbody>\n",
       "</table>\n",
       "</div>"
      ],
      "text/plain": [
       "    gene  interactions\n",
       "0  Itgb1             9\n",
       "1    Il6             5\n",
       "2  Itga4             4\n",
       "3    B2m             3"
      ]
     },
     "execution_count": 18,
     "metadata": {},
     "output_type": "execute_result"
    }
   ],
   "source": [
    "# Genes with the most endothelial candidate interactions\n",
    "endo_count_df = filtered_df.endo_candidate.value_counts().reset_index()\n",
    "endo_count_df.columns = ['gene', 'interactions']\n",
    "endo_count_df.head(4)"
   ]
  },
  {
   "cell_type": "code",
   "execution_count": 19,
   "metadata": {
    "collapsed": false
   },
   "outputs": [
    {
     "data": {
      "text/plain": [
       "23"
      ]
     },
     "execution_count": 19,
     "metadata": {},
     "output_type": "execute_result"
    }
   ],
   "source": [
    "# Genes with interactions\n",
    "genes = set(filtered_df.opc_candidate) | set(filtered_df.endo_candidate)\n",
    "len(genes)"
   ]
  },
  {
   "cell_type": "code",
   "execution_count": 20,
   "metadata": {
    "collapsed": true
   },
   "outputs": [],
   "source": [
    "# Save to excel\n",
    "path = os.path.join('data', 'filtered.xlsx')\n",
    "writer = pandas.ExcelWriter(path, engine='xlsxwriter')\n",
    "filtered_df.to_excel(writer, index=False, sheet_name='interactions')\n",
    "opc_count_df.to_excel(writer, index=False, sheet_name='opc_candidate_gene_counts')\n",
    "endo_count_df.to_excel(writer, index=False, sheet_name='endo_candidate_gene_counts')\n",
    "param_df.to_excel(writer, index=False, sheet_name='parameters')\n",
    "for sheet in writer.sheets.values():\n",
    "    sheet.freeze_panes(1, 0)\n",
    "writer.close()"
   ]
  },
  {
   "cell_type": "markdown",
   "metadata": {},
   "source": [
    "## Network"
   ]
  },
  {
   "cell_type": "code",
   "execution_count": 21,
   "metadata": {
    "collapsed": false
   },
   "outputs": [],
   "source": [
    "graph = networkx.DiGraph()\n",
    "for i, row in fc_df.iterrows():\n",
    "    gene = row['Gene symbol']\n",
    "    if not gene in genes:\n",
    "        continue\n",
    "    graph.add_node(gene,\n",
    "                   opc_l2fc = row['opc_L2FC'],\n",
    "                   endo_l2fc = row['endothelial_L2FC'],\n",
    "                   dac_l2fc = row['DA_Cat_L2FC'])\n",
    "for i, row in filtered_df.iterrows():\n",
    "    graph.add_edge(row.opc_candidate, row.endo_candidate, weight=row.combined_score)"
   ]
  },
  {
   "cell_type": "code",
   "execution_count": 22,
   "metadata": {
    "collapsed": false
   },
   "outputs": [
    {
     "data": {
      "image/png": "[encoded data removed]",
      "text/plain": [
       "<matplotlib.figure.Figure at 0x7fc218352da0>"
      ]
     },
     "metadata": {},
     "output_type": "display_data"
    }
   ],
   "source": [
    "pos = networkx.spring_layout(graph, weight='weight', iterations=500, k=2)\n",
    "pc = networkx.draw_networkx_nodes(graph, pos)\n",
    "pc = networkx.draw_networkx_edges(graph, pos)\n",
    "labels = networkx.draw_networkx_labels(graph, pos)"
   ]
  },
  {
   "cell_type": "code",
   "execution_count": 23,
   "metadata": {
    "collapsed": true
   },
   "outputs": [],
   "source": [
    "# Save network\n",
    "path = os.path.join('data', 'network.graphml')\n",
    "networkx.readwrite.write_graphml(graph, path)"
   ]
  }
 ],
 "metadata": {
  "kernelspec": {
   "display_name": "Python 3",
   "language": "python",
   "name": "python3"
  },
  "language_info": {
   "codemirror_mode": {
    "name": "ipython",
    "version": 3
   },
   "file_extension": ".py",
   "mimetype": "text/x-python",
   "name": "python",
   "nbconvert_exporter": "python",
   "pygments_lexer": "ipython3",
   "version": "3.5.1"
  }
 },
 "nbformat": 4,
 "nbformat_minor": 0
}
